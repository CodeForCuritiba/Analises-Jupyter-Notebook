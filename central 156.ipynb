{
 "cells": [
  {
   "cell_type": "markdown",
   "metadata": {},
   "source": [
    "**Central 156**\n",
    "\n",
    "Análise do conteúdo dos dados abertos do serviço 156 disponibilizados pela PMC\n",
    "\n",
    "Exemplo de arquivo: http://dadosabertos.c3sl.ufpr.br/curitiba/156/2019-03-01_156_-_Base_de_Dados.csv"
   ]
  },
  {
   "cell_type": "markdown",
   "metadata": {},
   "source": [
    "Problemas encontrados no arquivo CSV:\n",
    "- Cabeçalho não possui a última coluna, dessa forma todos os registros possuem uma coluna a mais que o cabeçalho;\n",
    "- Na coluna \"RESPOSTA_FINAL\" o valor 'Retirada da Pendência de Revisão\\r\\n;'  está com quebra de linha gerando inconsistência;\n",
    "- A data está em formato 'dd/MM/yyyy' e possui espaços no final do valor;"
   ]
  },
  {
   "cell_type": "code",
   "execution_count": 1,
   "metadata": {
    "collapsed": true
   },
   "outputs": [],
   "source": [
    "original_file_name = '2019-03-01_156_-_Base_de_Dados.csv'"
   ]
  },
  {
   "cell_type": "code",
   "execution_count": 2,
   "metadata": {},
   "outputs": [],
   "source": [
    "# Valor na coluna \"RESPOSTA_FINAL\" está com quebra de linha.\n",
    "# Tem que ser pré-processado para remover a quebra de linha em 'Retirada da Pendência de Revisão\\r\\n;'\n",
    "\n",
    "# Read in the file\n",
    "with open(original_file_name, 'r', encoding='ISO-8859-1') as file :\n",
    "  filedata = file.read()\n",
    "\n",
    "# Replace the target string\n",
    "filedata = filedata.replace('Retirada da Pendência de Revisão\\n;', 'Retirada da Pendência de Revisão;')\n",
    "\n",
    "file_name = 'temp_' + original_file_name\n",
    "# Write the file out again\n",
    "with open(file_name, 'w', encoding='ISO-8859-1') as file:\n",
    "  file.write(filedata)"
   ]
  },
  {
   "cell_type": "code",
   "execution_count": 3,
   "metadata": {
    "collapsed": true
   },
   "outputs": [],
   "source": [
    "# Colunas adicionadas manualmente pois o HEADER do arquivo não possui a última coluna (adicionada como 'STATUS')\n",
    "columns = ['SOLICITACAO', 'TIPO', 'ORGAO', 'DATA', 'HORARIO', 'ASSUNTO',\n",
    "       'SUBDIVISAO', 'DESCRICAO', 'LOGRADOURO_ASS', 'BAIRRO_ASS',\n",
    "       'REGIONAL_ASS', 'MEIO_RESPOSTA', 'OBSERVACAO', 'SEXO', 'BAIRRO_CIDADAO',\n",
    "       'REGIONAL_CIDADAO', 'DATA_NASC', 'TIPO_CIDADAO', 'ORGAO_RESP',\n",
    "       'RESPOSTA_FINAL', 'STATUS']"
   ]
  },
  {
   "cell_type": "code",
   "execution_count": 4,
   "metadata": {
    "collapsed": true
   },
   "outputs": [],
   "source": [
    "import pandas as pd"
   ]
  },
  {
   "cell_type": "code",
   "execution_count": 5,
   "metadata": {},
   "outputs": [],
   "source": [
    "df = pd.read_csv(file_name, \n",
    "                 encoding=\"ISO-8859-1\", \n",
    "                 sep=\";\", \n",
    "                 index_col=False, \n",
    "                 skiprows=2, \n",
    "                 names = columns,\n",
    "                 escapechar='\\\\')"
   ]
  },
  {
   "cell_type": "code",
   "execution_count": 6,
   "metadata": {},
   "outputs": [
    {
     "data": {
      "text/plain": [
       "19342"
      ]
     },
     "execution_count": 6,
     "metadata": {},
     "output_type": "execute_result"
    }
   ],
   "source": [
    "# Quantidade de registros do arquivo\n",
    "len(df)"
   ]
  },
  {
   "cell_type": "code",
   "execution_count": 7,
   "metadata": {},
   "outputs": [
    {
     "data": {
      "text/html": [
       "<div>\n",
       "<style>\n",
       "    .dataframe thead tr:only-child th {\n",
       "        text-align: right;\n",
       "    }\n",
       "\n",
       "    .dataframe thead th {\n",
       "        text-align: left;\n",
       "    }\n",
       "\n",
       "    .dataframe tbody tr th {\n",
       "        vertical-align: top;\n",
       "    }\n",
       "</style>\n",
       "<table border=\"1\" class=\"dataframe\">\n",
       "  <thead>\n",
       "    <tr style=\"text-align: right;\">\n",
       "      <th></th>\n",
       "      <th>SOLICITACAO</th>\n",
       "      <th>TIPO</th>\n",
       "      <th>ORGAO</th>\n",
       "      <th>DATA</th>\n",
       "      <th>HORARIO</th>\n",
       "      <th>ASSUNTO</th>\n",
       "      <th>SUBDIVISAO</th>\n",
       "      <th>DESCRICAO</th>\n",
       "      <th>LOGRADOURO_ASS</th>\n",
       "      <th>BAIRRO_ASS</th>\n",
       "      <th>...</th>\n",
       "      <th>MEIO_RESPOSTA</th>\n",
       "      <th>OBSERVACAO</th>\n",
       "      <th>SEXO</th>\n",
       "      <th>BAIRRO_CIDADAO</th>\n",
       "      <th>REGIONAL_CIDADAO</th>\n",
       "      <th>DATA_NASC</th>\n",
       "      <th>TIPO_CIDADAO</th>\n",
       "      <th>ORGAO_RESP</th>\n",
       "      <th>RESPOSTA_FINAL</th>\n",
       "      <th>STATUS</th>\n",
       "    </tr>\n",
       "  </thead>\n",
       "  <tbody>\n",
       "    <tr>\n",
       "      <th>0</th>\n",
       "      <td>7669446</td>\n",
       "      <td>SOLICITAÇÃO</td>\n",
       "      <td>INSTITUTO DAS CIDADES INTELIGENTES</td>\n",
       "      <td>01/02/2019</td>\n",
       "      <td>12:47:28</td>\n",
       "      <td>ILUMINAÇÃO PÚBLICA</td>\n",
       "      <td>MANUTENÇÃO DE LUMINÁRIAS</td>\n",
       "      <td>SOLICITA A MANUTENÇÃO DE LUMINÁRIA. SEGUE DESC...</td>\n",
       "      <td>ANTONIO ZANON, 575</td>\n",
       "      <td>TATUQUARA</td>\n",
       "      <td>...</td>\n",
       "      <td>EMAIL</td>\n",
       "      <td>NaN</td>\n",
       "      <td>M</td>\n",
       "      <td>TATUQUARA</td>\n",
       "      <td>Unidade Regional Tatuquara</td>\n",
       "      <td>18/10/1969</td>\n",
       "      <td>CIDADÃO</td>\n",
       "      <td>SECRETARIA MUNICIPAL DE OBRAS PÚBLICAS</td>\n",
       "      <td>Conclusão - Automática</td>\n",
       "      <td>SOLICITACAO ATENDIDA</td>\n",
       "    </tr>\n",
       "    <tr>\n",
       "      <th>1</th>\n",
       "      <td>7669459</td>\n",
       "      <td>SOLICITAÇÃO</td>\n",
       "      <td>INSTITUTO DAS CIDADES INTELIGENTES</td>\n",
       "      <td>01/02/2019</td>\n",
       "      <td>12:51:32</td>\n",
       "      <td>ILUMINAÇÃO PÚBLICA</td>\n",
       "      <td>MANUTENÇÃO DE LUMINÁRIAS</td>\n",
       "      <td>SOLICITA A MANUTENÇÃO DE LUMINÁRIA. SEGUE DESC...</td>\n",
       "      <td>PRESIDENTE JOAO GOULART, 1495</td>\n",
       "      <td>TATUQUARA</td>\n",
       "      <td>...</td>\n",
       "      <td>EMAIL</td>\n",
       "      <td>NÃO INFORMOU PLACA DE IDENTIFICAÇÃO DO POSTE.</td>\n",
       "      <td>M</td>\n",
       "      <td>TATUQUARA</td>\n",
       "      <td>Unidade Regional Tatuquara</td>\n",
       "      <td>18/10/1969</td>\n",
       "      <td>CIDADÃO</td>\n",
       "      <td>SECRETARIA MUNICIPAL DE OBRAS PÚBLICAS</td>\n",
       "      <td>Conclusão - Automática</td>\n",
       "      <td>SOLICITACAO ATENDIDA</td>\n",
       "    </tr>\n",
       "    <tr>\n",
       "      <th>2</th>\n",
       "      <td>7669527</td>\n",
       "      <td>SOLICITAÇÃO</td>\n",
       "      <td>INSTITUTO DAS CIDADES INTELIGENTES</td>\n",
       "      <td>01/02/2019</td>\n",
       "      <td>13:27:28</td>\n",
       "      <td>ILUMINAÇÃO PÚBLICA</td>\n",
       "      <td>MANUTENÇÃO DE LUMINÁRIAS</td>\n",
       "      <td>SOLICITA A MANUTENÇÃO DE LUMINÁRIA. SEGUE DESC...</td>\n",
       "      <td>URBANO BIER FILHO, 113</td>\n",
       "      <td>TATUQUARA</td>\n",
       "      <td>...</td>\n",
       "      <td>EMAIL</td>\n",
       "      <td>INFORMA QUE: TRANSVERSAL 1 : CONCEIÇÃO MARIA V...</td>\n",
       "      <td>M</td>\n",
       "      <td>TATUQUARA</td>\n",
       "      <td>Unidade Regional Tatuquara</td>\n",
       "      <td>18/10/1969</td>\n",
       "      <td>CIDADÃO</td>\n",
       "      <td>SECRETARIA MUNICIPAL DE OBRAS PÚBLICAS</td>\n",
       "      <td>Conclusão - Automática</td>\n",
       "      <td>SOLICITACAO ATENDIDA</td>\n",
       "    </tr>\n",
       "    <tr>\n",
       "      <th>3</th>\n",
       "      <td>7670731</td>\n",
       "      <td>SOLICITAÇÃO</td>\n",
       "      <td>INSTITUTO DAS CIDADES INTELIGENTES</td>\n",
       "      <td>02/02/2019</td>\n",
       "      <td>10:26:17</td>\n",
       "      <td>PASSEIO</td>\n",
       "      <td>ROÇADA</td>\n",
       "      <td>SOLICITA ROÇADA DE RUA, A LIMPEZA DEVE SER REA...</td>\n",
       "      <td>JOVENILSON AMÉRICO DE OLIVEIRA, 0</td>\n",
       "      <td>TATUQUARA</td>\n",
       "      <td>...</td>\n",
       "      <td>EMAIL</td>\n",
       "      <td>NaN</td>\n",
       "      <td>M</td>\n",
       "      <td>TATUQUARA</td>\n",
       "      <td>Unidade Regional Tatuquara</td>\n",
       "      <td>18/10/1969</td>\n",
       "      <td>CIDADÃO</td>\n",
       "      <td>SECRETARIA DO GOVERNO MUNICIPAL</td>\n",
       "      <td>Conclusão - Automática</td>\n",
       "      <td>Solicitação atendida</td>\n",
       "    </tr>\n",
       "    <tr>\n",
       "      <th>4</th>\n",
       "      <td>7671586</td>\n",
       "      <td>SOLICITAÇÃO</td>\n",
       "      <td>INSTITUTO DAS CIDADES INTELIGENTES</td>\n",
       "      <td>03/02/2019</td>\n",
       "      <td>13:43:41</td>\n",
       "      <td>DRENAGEM</td>\n",
       "      <td>REPOSIÇÃO DE TAMPA/RALO/GRELHA DE CAIXA DE CAP...</td>\n",
       "      <td>SOLICITA REPOSIÇÃO DE TAMPA DA CAIXA DE CAPTAÇ...</td>\n",
       "      <td>DESEMBARGADOR ERNANI ALMEIDA DE ABREU, 596</td>\n",
       "      <td>TATUQUARA</td>\n",
       "      <td>...</td>\n",
       "      <td>EMAIL</td>\n",
       "      <td>NaN</td>\n",
       "      <td>M</td>\n",
       "      <td>TATUQUARA</td>\n",
       "      <td>Unidade Regional Tatuquara</td>\n",
       "      <td>18/10/1969</td>\n",
       "      <td>CIDADÃO</td>\n",
       "      <td>SECRETARIA DO GOVERNO MUNICIPAL</td>\n",
       "      <td>Conclusão - Automática</td>\n",
       "      <td>Solicitação Atendida.</td>\n",
       "    </tr>\n",
       "  </tbody>\n",
       "</table>\n",
       "<p>5 rows × 21 columns</p>\n",
       "</div>"
      ],
      "text/plain": [
       "   SOLICITACAO         TIPO                               ORGAO  \\\n",
       "0      7669446  SOLICITAÇÃO  INSTITUTO DAS CIDADES INTELIGENTES   \n",
       "1      7669459  SOLICITAÇÃO  INSTITUTO DAS CIDADES INTELIGENTES   \n",
       "2      7669527  SOLICITAÇÃO  INSTITUTO DAS CIDADES INTELIGENTES   \n",
       "3      7670731  SOLICITAÇÃO  INSTITUTO DAS CIDADES INTELIGENTES   \n",
       "4      7671586  SOLICITAÇÃO  INSTITUTO DAS CIDADES INTELIGENTES   \n",
       "\n",
       "                             DATA                         HORARIO  \\\n",
       "0  01/02/2019                      12:47:28                         \n",
       "1  01/02/2019                      12:51:32                         \n",
       "2  01/02/2019                      13:27:28                         \n",
       "3  02/02/2019                      10:26:17                         \n",
       "4  03/02/2019                      13:43:41                         \n",
       "\n",
       "              ASSUNTO                                         SUBDIVISAO  \\\n",
       "0  ILUMINAÇÃO PÚBLICA                           MANUTENÇÃO DE LUMINÁRIAS   \n",
       "1  ILUMINAÇÃO PÚBLICA                           MANUTENÇÃO DE LUMINÁRIAS   \n",
       "2  ILUMINAÇÃO PÚBLICA                           MANUTENÇÃO DE LUMINÁRIAS   \n",
       "3             PASSEIO                                             ROÇADA   \n",
       "4            DRENAGEM  REPOSIÇÃO DE TAMPA/RALO/GRELHA DE CAIXA DE CAP...   \n",
       "\n",
       "                                           DESCRICAO  \\\n",
       "0  SOLICITA A MANUTENÇÃO DE LUMINÁRIA. SEGUE DESC...   \n",
       "1  SOLICITA A MANUTENÇÃO DE LUMINÁRIA. SEGUE DESC...   \n",
       "2  SOLICITA A MANUTENÇÃO DE LUMINÁRIA. SEGUE DESC...   \n",
       "3  SOLICITA ROÇADA DE RUA, A LIMPEZA DEVE SER REA...   \n",
       "4  SOLICITA REPOSIÇÃO DE TAMPA DA CAIXA DE CAPTAÇ...   \n",
       "\n",
       "                               LOGRADOURO_ASS BAIRRO_ASS  \\\n",
       "0                          ANTONIO ZANON, 575  TATUQUARA   \n",
       "1               PRESIDENTE JOAO GOULART, 1495  TATUQUARA   \n",
       "2                      URBANO BIER FILHO, 113  TATUQUARA   \n",
       "3           JOVENILSON AMÉRICO DE OLIVEIRA, 0  TATUQUARA   \n",
       "4  DESEMBARGADOR ERNANI ALMEIDA DE ABREU, 596  TATUQUARA   \n",
       "\n",
       "           ...           MEIO_RESPOSTA  \\\n",
       "0          ...                   EMAIL   \n",
       "1          ...                   EMAIL   \n",
       "2          ...                   EMAIL   \n",
       "3          ...                   EMAIL   \n",
       "4          ...                   EMAIL   \n",
       "\n",
       "                                          OBSERVACAO SEXO BAIRRO_CIDADAO  \\\n",
       "0                                                NaN    M      TATUQUARA   \n",
       "1      NÃO INFORMOU PLACA DE IDENTIFICAÇÃO DO POSTE.    M      TATUQUARA   \n",
       "2  INFORMA QUE: TRANSVERSAL 1 : CONCEIÇÃO MARIA V...    M      TATUQUARA   \n",
       "3                                                NaN    M      TATUQUARA   \n",
       "4                                                NaN    M      TATUQUARA   \n",
       "\n",
       "             REGIONAL_CIDADAO                       DATA_NASC TIPO_CIDADAO  \\\n",
       "0  Unidade Regional Tatuquara  18/10/1969                          CIDADÃO   \n",
       "1  Unidade Regional Tatuquara  18/10/1969                          CIDADÃO   \n",
       "2  Unidade Regional Tatuquara  18/10/1969                          CIDADÃO   \n",
       "3  Unidade Regional Tatuquara  18/10/1969                          CIDADÃO   \n",
       "4  Unidade Regional Tatuquara  18/10/1969                          CIDADÃO   \n",
       "\n",
       "                               ORGAO_RESP          RESPOSTA_FINAL  \\\n",
       "0  SECRETARIA MUNICIPAL DE OBRAS PÚBLICAS  Conclusão - Automática   \n",
       "1  SECRETARIA MUNICIPAL DE OBRAS PÚBLICAS  Conclusão - Automática   \n",
       "2  SECRETARIA MUNICIPAL DE OBRAS PÚBLICAS  Conclusão - Automática   \n",
       "3         SECRETARIA DO GOVERNO MUNICIPAL  Conclusão - Automática   \n",
       "4         SECRETARIA DO GOVERNO MUNICIPAL  Conclusão - Automática   \n",
       "\n",
       "                  STATUS  \n",
       "0   SOLICITACAO ATENDIDA  \n",
       "1   SOLICITACAO ATENDIDA  \n",
       "2   SOLICITACAO ATENDIDA  \n",
       "3   Solicitação atendida  \n",
       "4  Solicitação Atendida.  \n",
       "\n",
       "[5 rows x 21 columns]"
      ]
     },
     "execution_count": 7,
     "metadata": {},
     "output_type": "execute_result"
    }
   ],
   "source": [
    "# Conteúdo dos registros (top 5)\n",
    "df.head(5)"
   ]
  },
  {
   "cell_type": "code",
   "execution_count": 8,
   "metadata": {},
   "outputs": [],
   "source": [
    "# tratamento dos valores na coluna data removendo espaços vazios e transformando em data\n",
    "df['DATA'] = df['DATA'].str.strip()"
   ]
  },
  {
   "cell_type": "code",
   "execution_count": 9,
   "metadata": {},
   "outputs": [
    {
     "data": {
      "text/plain": [
       "0   2019-02-01\n",
       "1   2019-02-01\n",
       "2   2019-02-01\n",
       "3   2019-02-02\n",
       "4   2019-02-03\n",
       "Name: DATA, dtype: datetime64[ns]"
      ]
     },
     "execution_count": 9,
     "metadata": {},
     "output_type": "execute_result"
    }
   ],
   "source": [
    "from datetime import datetime\n",
    "df['DATA'] = [datetime.strptime(x, '%d/%m/%Y') for x in df['DATA']]\n",
    "df['DATA'].head(5)"
   ]
  },
  {
   "cell_type": "code",
   "execution_count": 10,
   "metadata": {},
   "outputs": [
    {
     "data": {
      "text/plain": [
       "array(['SOLICITAÇÃO', 'RECLAMAÇÃO', 'ELOGIO', 'INFORMAÇÃO', 'RECADASTRO',\n",
       "       'SUGESTÃO', 'DENÚNCIA'], dtype=object)"
      ]
     },
     "execution_count": 10,
     "metadata": {},
     "output_type": "execute_result"
    }
   ],
   "source": [
    "df['TIPO'].unique()"
   ]
  },
  {
   "cell_type": "code",
   "execution_count": 11,
   "metadata": {},
   "outputs": [
    {
     "data": {
      "text/plain": [
       "array(['INSTITUTO DAS CIDADES INTELIGENTES',\n",
       "       'SECRETARIA DO GOVERNO MUNICIPAL', 'SECRETARIA MUNICIPAL DA SAÚDE',\n",
       "       'FUNDAÇÃO DE AÇÃO SOCIAL', 'URBANIZAÇÃO DE CURITIBA', 'SISTEMA GTL'], dtype=object)"
      ]
     },
     "execution_count": 11,
     "metadata": {},
     "output_type": "execute_result"
    }
   ],
   "source": [
    "df['ORGAO'].unique()"
   ]
  },
  {
   "cell_type": "code",
   "execution_count": 12,
   "metadata": {},
   "outputs": [
    {
     "data": {
      "text/plain": [
       "array(['ILUMINAÇÃO PÚBLICA', 'PASSEIO', 'DRENAGEM', 'SEMÁFORO', 'PARQUES',\n",
       "       'MOTORISTAS, COBRADORES E PORTEIROS', 'LIMPEZA',\n",
       "       'PLACAS DE NOMENCLATURA DE RUAS',\n",
       "       'TERMINAIS/ESTAÇÕES TUBO (PROJETOS)', 'POSTO DE SAÚDE',\n",
       "       'ARMAZÉM DA FAMÍLIA', 'COLETA', 'TRÂNSITO', 'DISQUE SOLIDARIEDADE',\n",
       "       'FLOREIRAS', 'ESTAR', 'UNIDADE DE SAÚDE 24H',\n",
       "       'PAINÉIS DE MENSAGENS VARIÁVEIS', 'ABORDAGEM SOCIAL DE RUA',\n",
       "       'FISCALIZAÇÃO DE OBRAS',\n",
       "       'FISCALIZAÇÃO DE TERRENOS BALDIOS OU EDIFICADOS',\n",
       "       'PROFISSIONAIS/SERVIÇOS CREDENCIADOS', 'POLUIÇÃO',\n",
       "       'CENTRO DE ATENÇÃO PSICOSSOCIAL - CAPS', 'CARTÃO TRANSPORTE',\n",
       "       'ESCOLAS MUNICIPAIS', 'OUTROS SETORES SMS', 'CRM-AF/SMS',\n",
       "       'VIGILÂNCIA EM SAÚDE AMBIENTAL', 'PAVIMENTAÇÃO',\n",
       "       'FAUNA SINANTRÓPICA', 'DIRETORIA DE URGÊNCIA E EMERGÊNCIA',\n",
       "       'ÁRVORE', 'PONTO DE ÔNIBUS', 'ÔNIBUS', 'NUMERAÇÃO PREDIAL',\n",
       "       'EQUIPAMENTOS DE GINÁSTICA - ACADEMIA AO AR LIVRE', 'PRAÇAS',\n",
       "       'PORTAL 156', 'COHAB', 'ANIMAIS DOMÉSTICOS',\n",
       "       'CENTRO MUNICIPAL DE EDUCAÇÃO INFANTIL - CMEI',\n",
       "       'SINALIZAÇÃO VERTICAL', 'PAVIMENTO DANIFICADO', 'RODOVIÁRIA',\n",
       "       'VIGILÂNCIA SANITÁRIA EM ESTABELECIMENTOS',\n",
       "       'PAVIMENTAÇÃO ALTERNATIVA - ANTIPÓ', 'ANIMAIS',\n",
       "       'TRANSPORTE COLETIVO', 'GABINETE',\n",
       "       'ORIENTAÇÕES SANITÁRIAS PARA RESIDÊNCIAS', 'RESTAURANTE POPULAR',\n",
       "       'REDE HOSPITALAR/FEAES', 'PROTEÇÃO AO CIDADÃO - GM', 'FISCALIZAÇÃO',\n",
       "       'LOMBADA FÍSICA', 'FEIRAS LIVRES', 'PROTEÇÃO AO PATRIMÔNIO - GM',\n",
       "       'ATENDIMENTO', 'SINALIZAÇÃO HORIZONTAL', 'PASSE ESCOLAR',\n",
       "       'FISCALIZAÇÃO DO COMÉRCIO ESTABELECIDO', 'PREFEITO', 'ISS',\n",
       "       'NOVO MOBILIÁRIO URBANO', 'SEGURANÇA DE EDIFICAÇÕES E IMÓVEIS',\n",
       "       'PROGRAMAÇÃO DO TRANSPORTE COLETIVO', 'FISCALIZAÇÃO DE MOCÓS',\n",
       "       'INFRAÇÕES DE TRÂNSITO',\n",
       "       'ATENDIMENTO SOCIAL EM DOMICÍLIO - CRIANÇA', 'ESPAÇOS ESPORTIVOS',\n",
       "       'CICLOVIA EM RUAS', 'DRENAGEM - MATRIZ',\n",
       "       'CENTRO DE EDUCAÇÃO INFANTIL CONTRATADO - CEI CONTRATADO', 'ICS',\n",
       "       'RADAR DE VELOCIDADE', 'JARDINETES',\n",
       "       'FEIRA DE ARTESANATO/CASA DO ARTESANATO', 'VARRIÇÃO',\n",
       "       'CORRIDA DE RUA', 'MANUTENÇÃO PREDIAL', 'EVENTOS CULTURAIS',\n",
       "       'OUVIDORIA SMS', 'FISCALIZAÇÃO DE LOTEAMENTOS IRREGULARES',\n",
       "       'ARRUAMENTO', 'IPTU', 'TÁXI', 'TRANSPORTE COMERCIAL (FRETAMENTO)',\n",
       "       'SERVIÇO FUNERÁRIO MUNICIPAL', 'CARTEIRA DE TRABALHO', 'INTERNET',\n",
       "       'MACRODRENAGEM', 'MOTO-FRETE', 'BOSQUES',\n",
       "       'SINALIZAÇÃO DE ESTACIONAMENTO', 'FUNCIONÁRIOS',\n",
       "       'BIBLIOTECAS TEMÁTICAS', 'SMDS', 'SENTIDO DE TRÁFEGO',\n",
       "       'ATIVIDADE FÍSICA', 'PROFESSORES E FUNCIONÁRIOS - SMELJ',\n",
       "       'VIGILÂNCIA SANITÁRIA EM HOSPITAIS, CLÍNICAS  E CONSULTÓRIOS',\n",
       "       'LIXEIRAS EM RUAS', 'FISCALIZAÇÃO DE PUBLICIDADE',\n",
       "       'LIMPEZA DE SANITÁRIOS', 'TERMINAIS/ESTAÇÕES TUBO (OBRAS)',\n",
       "       'ISENÇÕES DE TARIFA', 'CEMITÉRIOS MUNICIPAIS',\n",
       "       'VIGILÂNCIA SANITÁRIA DE PRODUTOS', 'ESPAÇO COMERCIAL',\n",
       "       'TRANSPORTE ACESSO', 'ESTAÇÃO TUBO', 'JARDIM BOTÂNICO',\n",
       "       'PATRIMÔNIO ARTÍSTICO-CULTURAL',\n",
       "       'OUTROS FUNCIONÁRIOS DO TRANSPORTE COLETIVO',\n",
       "       'CADASTRO ÚNICO DO GOVERNO FEDERAL',\n",
       "       'ATENDIMENTO SOCIAL EM DOMICÍLIO - IDOSO', 'ATENDIMENTO SMF',\n",
       "       'PONTES DE MADEIRA', 'EIXOS DE ANIMAÇÃO', 'TRÂNSITO EM ESCOLAS',\n",
       "       'S.A.V CRIANÇA - ORIENTAÇÃO TELEFÔNICA',\n",
       "       'S.A.V IDOSO - ORIENTAÇÃO TELEFÔNICA', 'FCC', 'EDIFICAÇÕES',\n",
       "       'RAMPA PARA PESSOAS COM DEFICIÊNCIA', 'FISCALIZAÇÃO DE SANEAMENTO',\n",
       "       'LICEUS DE OFÍCIOS /CURSOS', 'TRANSPORTE ESPECIAL SITES',\n",
       "       'ITINERÁRIO DO TRANSPORTE COLETIVO', 'TRANSPORTE ESCOLAR',\n",
       "       'FEIRAS NOTURNAS', 'PROCURADORIA - DÍVIDA ATIVA',\n",
       "       'EVENTOS ESPECIAIS', 'RUA DA CIDADANIA', 'CABINE DE INTEGRAÇÃO',\n",
       "       'PONTO DE TÁXI', 'LIMPEZA GERAL',\n",
       "       'EDUCAÇÃO E CIDADANIA NO TRÂNSITO',\n",
       "       'ATENDIMENTO SOCIAL EM DOMICÍLIO - PESSOA COM DEFICIÊNCIA',\n",
       "       'VELOCIDADE NA VIA', 'VIGILÂNCIA SANITÁRIA - LEI ANTIFUMO',\n",
       "       'CREAS - CENTRO DE REFERÊNCIA ESPECIALIZADO DA ASSISTÊNCIA SOCIAL',\n",
       "       'PONTES DE CONCRETO', 'MÍDIA EMBARCADA - MONITORES',\n",
       "       'VAGAS DE EMPREGO',\n",
       "       'CRAS - CENTRO DE REFERÊNCIA DA ASSISTÊNCIA SOCIAL',\n",
       "       'SEGURO DESEMPREGO', 'FAIXA DE TRAVESSIA ELEVADA', 'LINHA TURISMO',\n",
       "       'LOMBADA ELETRÔNICA', 'PAVIMENTAÇÃO DEFINITIVA',\n",
       "       'INIBIDOR DE PARADA NA FAIXA DE PEDESTRE', 'DENOMINAÇÃO DE RUAS',\n",
       "       'INIBIDOR DE CONVERSÃO-RETORNO PROIBIDO',\n",
       "       'INIBIDOR DE AVANÇO DE SINAL VERMELHO', 'CONCURSOS',\n",
       "       'AÇÃO VOLUNTÁRIA', 'FISCALIZAÇÃO DE FUNDO DE VALE (CÓRREGOS/VALAS)',\n",
       "       'FAROL DO SABER DE ESCOLA', 'FAROL DO SABER DE PRAÇA', 'PUBLICIDADE'], dtype=object)"
      ]
     },
     "execution_count": 12,
     "metadata": {},
     "output_type": "execute_result"
    }
   ],
   "source": [
    "df['ASSUNTO'].unique()"
   ]
  },
  {
   "cell_type": "code",
   "execution_count": 13,
   "metadata": {},
   "outputs": [
    {
     "data": {
      "text/plain": [
       "array(['MANUTENÇÃO DE LUMINÁRIAS', 'ROÇADA',\n",
       "       'REPOSIÇÃO DE TAMPA/RALO/GRELHA DE CAIXA DE CAPTAÇÃO',\n",
       "       'LÂMPADA APAGADA', 'IMPLANTAÇÃO DE LUMINÁRIAS', 'CONSERVAÇÃO',\n",
       "       'ATRASAR O HORÁRIO DURANTE A OPERAÇÃO', 'MANUTENÇÃO',\n",
       "       'ROÇADA DE RUA', 'ESPAÇO FÍSICO NAS ESTAÇÕES E TERMINAIS',\n",
       "       'FLUXO DE ATENDIMENTO', 'ATENDIMENTO AO PÚBLICO',\n",
       "       'RESÍDUOS VEGETAIS DE JARDIM',\n",
       "       'RECURSOS HUMANOS - QUANTIDADE DE PROFISSIONAIS',\n",
       "       'FISCALIZAÇÃO DE ESTACIONAMENTO IRREGULAR', 'DOAÇÕES',\n",
       "       'ENTULHOS DIVERSOS (PEQUENA QUANTIDADE)',\n",
       "       'SUBSTITUIÇÃO DE VASOS DE FLORES EM LOGRADOUROS PÚBLICOS',\n",
       "       'AGENTES DO ESTAR', 'EM ALERTA',\n",
       "       'RECURSOS HUMANOS - ATENDIMENTO PROFISSIONAL',\n",
       "       'RECURSOS MATERIAIS - MATERIAL PERMANENTE', 'FISCALIZAÇÃO IMEDIATA',\n",
       "       'OBSTRUÇÃO DO PASSEIO', 'INFORMAÇÕES GERAIS',\n",
       "       'PESSOAS/FAMÍLIAS EM DESABRIGO NA RUA', 'DRENAGEM',\n",
       "       'RECURSOS MATERIAIS - MATERIAL MÉDICO HOSPITALAR',\n",
       "       'CALIÇAS ATÉ 5 CARRINHOS DE MÃO',\n",
       "       'LIMPEZA E DESOBSTRUÇÃO DE CAIXA DE CAPTAÇÃO', 'LIMPEZA',\n",
       "       'RECURSOS MATERIAIS - LINHA TELEFÔNICA', 'SONORA - NOTURNA',\n",
       "       'RECURSOS MATERIAIS - MEDICAMENTOS',\n",
       "       'AGENDAMENTO DE CONSULTA ESPECIALIZADA / SADT',\n",
       "       'FISCALIZAÇÃO PROGRAMADA', 'FISCALIZAÇÃO DE BLOQUEIO DE PISTA',\n",
       "       'GERAL', 'ALCOOLIZADAS/DROGADAS',\n",
       "       'RECUPERAÇÃO DE CAIXA DE CAPTAÇÃO',\n",
       "       'LIMPEZA, CONSERVAÇÃO E JARDINAGEM', 'VENDA',\n",
       "       'INSPEÇÃO/ORIENTAÇÃO - MOSQUITO DA DENGUE',\n",
       "       'EROSÃO EM GALERIA DE ÁGUAS PLUVIAIS', 'REVITALIZAÇÃO',\n",
       "       'RISCO PARA  LEPTOSPIROSE/ ROEDORES EM BUEIRO',\n",
       "       'ADULTO DESAPARECIDO', 'RESIDUAL', 'AGENDAMENTO DE CONSULTA BÁSICA',\n",
       "       'ATENDIMENTO EMERGENCIAL', 'IMPLANTAÇÃO', 'POLUIÇÃO SONORA',\n",
       "       'ALVARÁ DE CONSTRUÇÃO', 'CORREÇÃO DE DUPLA NA RUA',\n",
       "       'IMPLANTAÇÃO E MANUTENÇÃO', 'APLICATIVO SAÚDE JÁ CURITIBA',\n",
       "       'PERDIDA/DESORIENTADA', 'CORREÇÃO TOTAL DA RUA', 'ALAGAMENTOS',\n",
       "       'RECURSOS HUMANOS - ATENDIMENTO MÉDICO/OUTROS PROFISSIONAIS FEAES/OS',\n",
       "       'INSCRIÇÃO', 'IMPLANTAÇÃO DE EXTENSÃO DE REDE',\n",
       "       'APREENSÃO ANIMAIS DE GRANDE PORTE SOLTOS EM VIA PÚBLICA',\n",
       "       'REMOÇÃO DE CANINOS MORTOS',\n",
       "       'RELACIONAMENTO INTERPESSOAL E ATENDIMENTO', 'FALTA DE VAGAS',\n",
       "       'MANUTENÇÃO DE ILUMINAÇÃO', 'OUTROS',\n",
       "       'IMPLANTAÇÃO DE PROIBITIVA PARA LIXO',\n",
       "       'IMPLANTAÇÃO DE CAIXA DE CAPTAÇÃO', 'DORMINDO/CAÍDAS NA RUA',\n",
       "       'ESMOLANDO',\n",
       "       'DANOS CAUSADOS POR OBRAS DA: SANEPAR, COPEL, BRASIL TELECOM E OUTROS',\n",
       "       'RELOCAÇÃO', 'ROÇADA EM VIAS DE COMPETÊNCIA DO MALP',\n",
       "       'FISCALIZAÇÃO EM SERVIÇOS DE INTERESSE A SAÚDE', 'TAPA BURACO',\n",
       "       'MAUS TRATOS - ANIMAIS DOMÉSTICOS', 'COLOCAÇÃO EM TODA A EXTENSÃO',\n",
       "       'RECLAMAÇÃO CONTRA A FISCALIZAÇÃO DO TRANSPORTE',\n",
       "       'CÃES BRAVOS OU AVANÇANDO EM VIA PÚBLICA - FISCALIZAÇÃO', 'SMS',\n",
       "       'VEÍCULO ABANDONADO', 'RECUSAR PASSAGEIROS SEM MOTIVO JUSTIFICADO',\n",
       "       'CRIAÇÃO DE ANIMAIS DOMÉSTICOS', 'ATENDIMENTO',\n",
       "       'QUALIDADE DA REFEIÇÃO', 'CONTRIBUIÇÃO (TAXA)', 'SONORA - DIURNA',\n",
       "       'EXAMES/ PROCEDIMENTOS DE ALTO CUSTO', 'MORCEGOS',\n",
       "       'RECURSOS HUMANOS - FALTA DO PROFISSIONAL AO TRABALHO',\n",
       "       'COMPLEMENTAÇÃO ATÉ O MEIO-FIO', 'ADOTE UMA ÁRVORE',\n",
       "       'SOLICITAÇÃO DE MAIOR SEGURANÇA', 'CABOS DANIFICADOS',\n",
       "       'AVALIAÇÃO TÉCNICA - VIA PÚBLICA',\n",
       "       'ORIENTAÇÃO, MANEJO E CONTROLE DE DOENÇAS E AGRAVOS',\n",
       "       'RESÍDUOS DISPOSTOS INADEQUADAMENTE EM PASSEIO', 'PRODUTOS',\n",
       "       'ATENDIMENTO (RESÍDUOS RECICLÁVEIS)',\n",
       "       'RECURSOS HUMANOS - RECUSA DE ATENDIMENTO',\n",
       "       'MONTAGEM E DESMONTAGEM DE FEIRAS', 'VIOLAÇÃO DE ALARME',\n",
       "       'RECLAMAÇÃO DA CENTRAL', 'SOLICITAÇÃO DE FISCALIZAÇÃO',\n",
       "       'REMOÇÃO DE FELINOS MORTOS', 'CONSTRUÇÃO DE QUADRA COBERTA',\n",
       "       'PINTURA DE SÍMBOLOS VIÁRIOS',\n",
       "       'DIRIGIR INADEQUADAMENTE DESOBEDECENDO ÀS REGRAS DE TRÂNSITO',\n",
       "       'COMÉRCIO DIURNO', 'LIXO/ÁGUA E OUTRAS IRREGULARIDADES',\n",
       "       'RECURSOS MATERIAIS - MANUTENÇÃO E OBRAS', 'DEMORA NO ATENDIMENTO',\n",
       "       'ELOGIO', 'SOLICITAÇÕES', 'SUGESTÃO DE PLANTIO',\n",
       "       'CORTE IRREGULAR - DESMATE', 'PONTO DE ÔNIBUS', 'ESTRUTURAS',\n",
       "       'SUPRESSÕES DE HORÁRIO',\n",
       "       'RECURSOS HUMANOS - QUANTIDADE DE MÉDICOS/OUTROS PROFISSIONAIS FEAES/OS',\n",
       "       'AGENDAMENTO DE CONSULTA DE RETORNO', 'ATMOSFÉRICA',\n",
       "       'DEMORA PARA INTERNAMENTO', 'ALTERAÇÃO DE HORÁRIO', 'CALL BACK',\n",
       "       'FALHA DE SINCRONISMO',\n",
       "       'UTILIZAÇÃO ILEGAL DE IMÓVEL POR POPULAÇÃO DE RUA (QUE GERE INSEGURANÇA)',\n",
       "       'OUTRAS INFORMAÇÕES',\n",
       "       'RECURSOS MATERIAIS - HIGIENE / LIMPEZA/ AMBIÊNCIA',\n",
       "       'ASSISTÊNCIA À GESTANTE', 'MELHORIA NA OFERTA DE VEÍCULOS/VIAGENS',\n",
       "       'ATIVIDADES ESCOLARES', 'ERGUER GUIA REBAIXADA',\n",
       "       'AGRADECIMENTO À CENTRAL', 'INVASÃO DE EQUIPAMENTO EDIFICADO',\n",
       "       'NEGLIGÊNCIA', 'RECUPERAÇÃO DE CALÇADA',\n",
       "       'CESSÃO DE ESPAÇOS ESPORTIVOS',\n",
       "       'ACOMPANHAMENTO DE OBRAS DE CONCESSIONÁRIAS EM VIA PÚBLICA',\n",
       "       'ELOGIO PELO BOM DESEMPENHO DA FUNÇÃO', 'REPOSIÇÃO DE GRELHA',\n",
       "       'PAINÉIS PUBLICITÁRIOS E TOTENS', 'HORÁRIO DE FUNCIONAMENTO',\n",
       "       'PARTIR COM ÔNIBUS COM PASSAGEIRO EMBARCANDO/DESEMBARCANDO',\n",
       "       'RECUPERAÇÃO DE MEIO-FIO',\n",
       "       'FISCALIZAÇÃO DE CONSTRUÇÃO/RECONSTRUÇÃO DE PASSEIO',\n",
       "       'ATENDIMENTO DO ICS', 'LAVAGEM DE VIAS - CAMINHÃO PIPA',\n",
       "       'CONSTRUÇÃO/RECONSTRUÇÃO DE MUROS', 'CONSERVAÇÃO E MANUTENÇÃO',\n",
       "       'SEMÁFORO, ACLIVE, DECLIVE, PISTA ESCORREGADIA E OUTRAS',\n",
       "       'PROVÁVEL NOTIFICAÇÃO',\n",
       "       'DEMORA NO ATENDIMENTO PARA CONSULTA MÉDICA/OUTROS PROFISSIONAIS FEAES/OS',\n",
       "       'MANUAL', 'SOLICITAÇÃO DE GUARDAS MUNICIPAIS',\n",
       "       'REMOÇÃO DE EQUÍDEOS MORTOS',\n",
       "       'DIRIGIR INADEQUADAMENTE COM RISCO DE ACIDENTES',\n",
       "       'INFORMAÇÕES SOBRE CORRIDA - ADULTO', 'PROJETOS DE ENGENHARIA',\n",
       "       'RODOFERROVIÁRIA', 'DENÚNCIA/RECLAMAÇÃO DE DESVIO DE ITINERÁRIO',\n",
       "       'INFRAESTRUTURA', 'ASSENTAMENTO DE TUBULAÇÃO ATÉ 80CM',\n",
       "       'ÓLEO NA PISTA', 'TRATAR PASSAGEIROS COM FALTA DE URBANIDADE',\n",
       "       'ROÇADA EM EQUIPAMENTO PÚBLICO', 'SUGESTÃO DE MELHORIA',\n",
       "       'CONSULTA BÁSICA', 'PROBLEMAS NO VALIDADOR',\n",
       "       'PARCELAMENTO DO SOLO SEM PROJETO APROVADO',\n",
       "       'ESTACIONAR VEÍCULO AFASTADO DA PLATAFORMA/TERMINAL', 'PREVENTIVA',\n",
       "       'NIVELAMENTO DE RUA', 'EXAMES ESPECIALIZADOS E PROCEDIMENTOS',\n",
       "       'INFORMAÇÃO', 'DEIXAR DE CUMPRIR DETERMINAÇÃO DA URBS',\n",
       "       'VEÍCULOS CLANDESTINOS', 'SERVIÇO MAL PRESTADO POR FUNERÁRIA',\n",
       "       'PLACA DE OBSTÁCULO, MARCADOR DE ALINHAMENTO E PERIGO - ZEBRADA',\n",
       "       'PINTURA DE LEGENDA: PEDESTRE, CURVA, ATENÇÃO, DEVAGAR',\n",
       "       'EXAME DE COLETA NA UNIDADE DE SAÚDE', 'EMISSÃO', 'VACINA',\n",
       "       'TRANSPORTE SANITÁRIO', 'RECURSOS MATERIAIS - VACINAS',\n",
       "       'DEMORA DE ATENDIMENTO', 'IMPLANTAÇÃO DE AUMENTO DE POTÊNCIA',\n",
       "       'MANUTENÇÃO EM GALERIA DE ÁGUAS PLUVIAIS',\n",
       "       'VENDEDORES AMBULANTES E/OU PEDINTES EM ÔNIBUS, TERMINAIS E ESTAÇÕES-TUBO',\n",
       "       'DEDETIZAÇÃO', 'RECUPERAÇÃO DE TUBULAÇÃO ATÉ 80CM',\n",
       "       'HELP DESK BILHETAGEM ELETRÔNICA',\n",
       "       'DESASSOREAMENTO DE RIOS, CÓRREGOS E CANAIS',\n",
       "       'NÃO ATENDER AO SINAL DE PARADA PARA DESEMBARQUE', 'PREÇOS',\n",
       "       'UNIFICAÇÃO DE CADASTRO',\n",
       "       'CRIANÇAS DESENVOLVENDO ATIVIDADE INFORMAL',\n",
       "       'RELOCAÇÃO DE CAIXA DE CAPTAÇÃO', 'RECURSOS HUMANOS - OUTROS',\n",
       "       'HÍDRICA - EMPRESAS',\n",
       "       'EXCLUSIVO PARA: IDOSOS E PESSOAS COM DEFICIÊNCIA',\n",
       "       'LIMPEZA DE VALETA', 'TEMPOS DE VERDE',\n",
       "       'PODA DE MANUTENÇÃO EM VIA PÚBLICA',\n",
       "       'DESOBSTRUÇÃO DOS CURSOS HÍDRICOS - RIOS E CÓRREGOS',\n",
       "       'FÉRIAS, RECESSOS E COLÔNIA DE FÉRIAS', 'REPOSIÇÃO DE PLACAS',\n",
       "       'RECURSOS HUMANOS - ALTERAÇÃO DE PROFISSIONAL', 'FCC',\n",
       "       'EQUIPAMENTOS E ACESSÓRIOS DE INFORMÁTICA', 'RECLAMAÇÕES',\n",
       "       'MECÂNICA EM VIAS COM MEIO-FIO',\n",
       "       'PINTURA DE FAIXAS DIVISÓRIAS DE PISTA',\n",
       "       'ALTERAÇÃO DE SENTIDO DE TRÁFEGO',\n",
       "       'EROSÃO EM MARGEM DE RIO OU CÓRREGO', 'PROIBIÇÃO DE ESTACIONAMENTO',\n",
       "       'EXAME', 'COMÉRCIO NOTURNO', 'OFERTA DE ATIVIDADES NAS REGIONAIS',\n",
       "       'LIMPEZA / MANUTENÇÃO DE CAIXA DE CAPTAÇÃO',\n",
       "       'DEIXAR DE MANTER ATITUDES CONDIZENTES COM A FUNÇÃO', 'REPINTURA',\n",
       "       'AUTORIZAÇÃO PARA REBAIXAMENTO DE MEIO FIO', 'ÁGUA',\n",
       "       'INTEGRAÇÃO TEMPORAL',\n",
       "       'VEDAÇÃO DE TERRENO E IMÓVEL EDIFICADO DO MUNICÍPIO',\n",
       "       'ALVARÁ DE DEMOLIÇÃO', 'ATENDIMENTO - CURITIBA',\n",
       "       'INSTALAÇÕES ELÉTRICAS',\n",
       "       'FISCALIZAÇÃO EM HOSPITAIS, CLÍNICAS E CONSULTÓRIOS',\n",
       "       'SUGESTÃO DE SEGURANÇA', 'EQUIPAMENTOS DO VEÍCULO',\n",
       "       'MANUTENÇÃO E REPOSIÇÃO', 'RESTOS DE PODAS DA PMC', 'ELOGIOS',\n",
       "       'AMBULÂNCIA', 'ASSISTÊNCIA À SAÚDE MENTAL',\n",
       "       'RECICLAGEM DE RUAS EM ANTIPÓ',\n",
       "       'PUBLICIDADE EM VIA PÚBLICA (BANNERS, CAVALETES E FAIXAS)',\n",
       "       'ARCADAS DO PELOURINHO, PARQUE BARIGUI E PRAÇA OSÓRIO',\n",
       "       'REGISTRO DE OCORRÊNCIA', 'AGENTE DE TRÂNSITO',\n",
       "       'PÁGINAS DA PREFEITURA', 'RELÓGIOS DIGITAIS',\n",
       "       'PERTURBAÇÃO DO SOSSEGO PÚBLICO',\n",
       "       'SONDAGEM EM GALERIAS DE ÁGUAS PLUVIAIS', 'DEFICIENTES',\n",
       "       'AVALIAÇÃO TÉCNICA - OUTROS LOGRADOUROS PÚBLICOS',\n",
       "       'NOVO MOBILIÁRIO URBANO', 'PLACA DE PEDESTRES',\n",
       "       'REFORMA E REVITALIZAÇÃO', 'AUTORIZAÇÃO PARA PROTETOR DE PASSEIO',\n",
       "       'FRESAGEM E RECAPE', 'PRODUTOS DE INTERESSE A SAÚDE', 'SMU',\n",
       "       'RECLAMAÇÃO', 'AGRESSÃO VERBAL OU FÍSICA',\n",
       "       'DAR SINAL DE PARTIDA COM PASSAGEIRO EMBARCANDO/DESEMBARCANDO',\n",
       "       'REMOÇÃO DE ANIMAIS MORTOS - DIAGNÓSTICO DE RAIVA E FEBRE AMARELA',\n",
       "       'ELEVADORES', 'CONTEÚDO DA ÁREA PÚBLICA', 'COLOCAÇÃO DE TACHÕES',\n",
       "       'CARGA E DESCARGA', 'SUBSTITUIÇÃO POR NOVOS', 'ÓRTESE E PRÓTESE',\n",
       "       'INFORME DE ACIDENTES OU EMERGÊNCIA NO TRANSPORTE',\n",
       "       'LOGRADOUROS - QUIOSQUES E BANCAS', 'FAS', 'ISS - CURITIBA',\n",
       "       'PROCESSOS DE DEFESA PRÉVIA, JARI E CETRAN',\n",
       "       'RECLAMAÇÕES DE ATENDIMENTO', 'ITINERÁRIO', 'URBS',\n",
       "       'ALVARÁ DE PUBLICIDADE', 'PORTA TRAVADA ABERTA',\n",
       "       'RECURSOS MATERIAIS - OUTROS', 'ELEVADOR INOPERANTE', 'ACERVO',\n",
       "       'VEÍCULO ADAPTADO PARA DEFICIENTE', 'FISCALIZAÇÃO',\n",
       "       'CÃO SEM GUIA E SEM FOCINHEIRA', 'UTILIZAÇÃO DO BENEFÍCIO', 'SMCS',\n",
       "       'PLACA DE PARE OU DÊ A PREFERÊNCIA', 'ÁREA ODONTOLÓGICA',\n",
       "       'SOLICITAÇÃO DE DOCUMENTOS', 'MAUS TRATOS - ANIMAIS SILVESTRES',\n",
       "       'SMF - ATENDIMENTO NAS RUAS DA CIDADANIA', 'RECUSA DE PASSAGEIRO',\n",
       "       'MANUTENÇÃO DE PARQUE INFANTIL',\n",
       "       'PONTE DANIFICADA (IMPEDINDO PASSAGEM)',\n",
       "       'PONTE DANIFICADA (PERMITINDO PASSAGEM)', 'ALIMENTAÇÃO',\n",
       "       'INFORMAÇÕES ANIMAIS: DOENÇAS, VACINAÇÃO, MORDIDAS',\n",
       "       'FISCALIZAÇÃO COM AGENTES', 'DIREÇÃO PERIGOSA',\n",
       "       'SOLICITAÇÕES GERAIS', 'PINTURA DE LEGENDA: ESCOLA',\n",
       "       'PLACA DE ESCOLARES', 'PARCERIAS E CONVÊNIOS',\n",
       "       'VIOLÊNCIA PSICOLÓGICA',\n",
       "       'MAUS TRATOS - COMÉRCIO DE ANIMAIS DE ESTIMAÇÃO',\n",
       "       'REPINTURA DE LOMBADA',\n",
       "       'MANUTENÇÃO DE VIADUTOS E TRINCHEIRA - PINTURAS',\n",
       "       'MAU CHEIRO NA GALERIA DE ÁGUAS PLUVIAIS', 'SUGESTÃO',\n",
       "       'CADASTRO EM DOMICÍLIO', 'ALTERAÇÃO',\n",
       "       'NÃO TRATAR COM POLIDEZ E URBANIDADE', 'LIMPEZA DE RIO',\n",
       "       'ABERTURA E FECHAMENTO DE TURMAS',\n",
       "       'DESOBSTRUÇÃO EM GALERIA DE ÁGUAS PLUVIAIS',\n",
       "       'ARCADAS DO PELOURINHO', 'RECUPERAÇÃO DE CICLOVIA',\n",
       "       'TABELA HORÁRIA \\x96 ATUALIZAÇÃO NO PAINEL DE HORÁRIOS DO TERMINAL',\n",
       "       'MANUTENÇÃO DA CATRACA DE SAÍDA',\n",
       "       'IMPLANTAÇÃO / SUBSTITUIÇÃO DE TUBULAÇÃO', 'CARTEIRINHA/CADASTRO',\n",
       "       'IPTU', 'PINTURA DE SETAS', 'EMBARQUE E DESEMBARQUE',\n",
       "       'DEIXAR DE FORNECER TROCO CORRETAMENTE',\n",
       "       'PAISAGISMO - MANEJO DA ARBORIZAÇÃO', 'ADMINISTRAÇÃO REGIONAL',\n",
       "       'RETIRADA DA PINTURA', 'ATENDIMENTO (DOMICILIAR)',\n",
       "       'RUAS DA CIDADANIA OU SHOPPING POPULAR',\n",
       "       'ADIANTAR O HORÁRIO DURANTE A OPERAÇÃO',\n",
       "       '15 MINUTOS COM O PISCA-ALERTA LIGADO', 'CAPELAS',\n",
       "       'APOSENTADOS POR INVALIDEZ', 'PINTURA DE LEGENDA: PARE', 'SMELJ',\n",
       "       'ABELHAS', 'MANUTENÇÃO DE PLACAS', 'SGM', 'VIOLÊNCIA FÍSICA',\n",
       "       'NEGLIGÊNCIA - ADOÇÃO IRREGULAR (À BRASILEIRA)',\n",
       "       'TERMINAIS DE ÔNIBUS', 'ORIENTAÇÃO E INFORMAÇÕES SOBRE TRÂNSITO',\n",
       "       'RECURSOS MATERIAIS - ÓRTESE E PRÓTESE',\n",
       "       'RECURSOS MATERIAIS - HIGIENE/LIMPEZA',\n",
       "       'ABANDONO - MAUS TRATOS - NEGLIGÊNCIA', 'VEÍCULO CLANDESTINO',\n",
       "       'IDOSOS', 'SISTEMA DE ITINERÁRIO', 'ILUMINAÇÃO',\n",
       "       'CONSTRUÇÃO IRREGULAR EM FAIXA NÃO EDIFICÁVEL',\n",
       "       'EXCESSO DE VELOCIDADE',\n",
       "       'PROIBIÇÃO DE TRÁFEGO/ESTACIONAMENTO DE CAMINHÕES',\n",
       "       'MATRÍCULAS E REMATRÍCULAS', 'DECLARAÇÕES', 'PLACA DE VELOCIDADE',\n",
       "       'ORIENTAÇÃO SOBRE A LEI ANTIFUMO', 'REFORMAS/OBRAS',\n",
       "       'RECLAMAÇÃO/ELOGIO/INFORMAÇÕES', 'POLUIÇÃO DE GASES',\n",
       "       'INÍCIO DE FUNCIONAMENTO DE CMEI', 'PLACAS INDICATIVAS DE BAIRROS',\n",
       "       'DIRIGIR INADEQUADAMENTE PONDO EM RISCO AOS PASSAGEIROS',\n",
       "       'LOGIN DE ACESSO', 'OBJETOS PERDIDOS NAS ESTAÇÕES TUBO',\n",
       "       'PROGRAMA NACIONAL DE CONTROLE DO TABAGISMO', 'CONTEÚDO - URBS',\n",
       "       'PISCINAS', 'TRABALHADOR - PROCURA DE VAGAS E ENCAMINHAMENTOS',\n",
       "       'INFLAMÁVEIS', 'FALTA DE PROFISSIONAIS', 'COLOCAÇÃO DE TARTARUGAS',\n",
       "       'PREVENÇÃO DE INCÊNDIOS', 'HABILITAÇÃO DO SEGURO DESEMPREGO',\n",
       "       'ROÇADA EM TERRENOS PÚBLICOS', 'LIMPEZA DE TUBULAÇÃO ATÉ 80CM',\n",
       "       'ISS', 'ORIENTAÇÃO SOBRE ROEDORES E LEPTOSPIROSE', 'GRATUIDADE',\n",
       "       'INFORMAÇÕES SOBRE PLANO DE LUTO',\n",
       "       'MANUTENÇÃO EM CAIXA DE CAPTAÇÃO',\n",
       "       'DEIXAR DE MANTER A ORDEM NO INTERIOR DO ÔNIBUS', 'SITE - URBS',\n",
       "       'INFORMAÇÕES TURÍSTICAS',\n",
       "       'ELOGIO À FISCALIZAÇÃO DO TRANSPORTE COLETIVO',\n",
       "       'SOLICITAÇÃO DE NOVA PONTE', 'PLACAS DE SENTIDOS DE TRÁFEGO',\n",
       "       'NEGLIGÊNCIA - ABANDONO', 'VIOLÊNCIA FÍSICA - MAUS TRATOS',\n",
       "       'PÁRA-RAIOS', 'ÁGUA, LUZ E TELEFONE',\n",
       "       'DEIXAR DE MANTER A ORDEM NO INTERIOR DA ESTAÇÃO TUBO',\n",
       "       'PROMOÇÃO DA DEFESA COMUNITÁRIA', 'RECURSOS MATERIAIS - CONSUMO',\n",
       "       'DEJETOS GERADOS PELOS ANIMAIS DE ESTIMAÇÃO', 'LIVROS DIDÁTICOS',\n",
       "       'MANUTENÇÃO DE VIADUTOS E TRINCHEIRA - RECUPERAÇÃO', 'ESQUECIMENTO',\n",
       "       'APROPRIAÇÃO INDEVIDA DA RECEITA',\n",
       "       'INFILTRAÇÃO DE ÁGUA EM COBERTURAS',\n",
       "       'MANUTENÇÃO E REPOSIÇÃO DE MATERIAIS', 'ATENDIMENTO 0800',\n",
       "       'ALTERAR PONTO DE PARADA SEM AUTORIZAÇÃO',\n",
       "       'AGENDAMENTO DO ATENDIMENTO', 'VIOLÊNCIA SEXUAL',\n",
       "       'CRIAÇÃO DE NOVA LINHA', 'DENÚNCIAS E ELOGIOS',\n",
       "       'ESTACIONAR VEÍCULO FORA DO PONTO INICIAL OU FINAL DE LINHA',\n",
       "       'COMPORTAMENTO - FUGA DE INSTITUIÇÃO DE ABRIGO',\n",
       "       'INVASÃO DO TRANSPORTE COLETIVO', 'ESTACIONAMENTO INDEVIDO',\n",
       "       'LANÇAMENTO DE ESGOTO EM VIA PÚBLICA', 'SHOPPING POPULAR',\n",
       "       'CONCURSOS ABERTOS/INSCRIÇÕES/INFORMAÇÕES',\n",
       "       'VOLUNTARIADO ASSISTÊNCIA SOCIAL', 'ATENDIMENTO (LIXO TÓXICO)',\n",
       "       'PRAZO DE ENTREGA', 'CRIANÇAS E ADOLESCENTES DESAPARECIDA',\n",
       "       'CONSTRUÇÃO DE NOVA UNIDADE',\n",
       "       'OPERADOR PERMITIR O EMBARQUE DE USUÁRIO SEM PAGAMENTO DE TARIFA',\n",
       "       'LIMPEZA E DESINFECÇÃO DE CAIXAS DÁGUA', 'HORÁRIO DE ATENDIMENTO',\n",
       "       'PLACA DE RUA SEM SAÍDA', 'AGENDAMENTO', 'RUA 24 HORAS',\n",
       "       'SEGUNDA VIA DE DECLARAÇÃO DE NASCIDO VIVO',\n",
       "       'OPERAÇÃO ESCOLA - IMPLANTAÇÃO', 'LISTA DE MATERIAL ESCOLAR',\n",
       "       'SEDPCD', 'MEDICAMENTOS', 'IMPLANTAÇÃO DE ABRIGO',\n",
       "       'VISTORIA DE IMÓVEL', 'SMTE', 'PRONTUÁRIO MÉDICO',\n",
       "       'REPOSIÇÃO DE TAMPÃO', 'PROGRAMAS DA SMS',\n",
       "       'RECLAMAÇÃO QUANTO AGRESSÃO FÍSICA', 'OUT-DOOR',\n",
       "       'RESTITUIÇÃO DE MULTAS', 'CONTEÚDO DA ÁREA RESTRITA', 'HORÁRIO',\n",
       "       'AUTORIZAÇÃO PARA LETREIROS', 'CENTRAL DE  LEITOS PSIQUIÁTRICOS',\n",
       "       'CADASTRO', 'ESTACIONAR VEÍCULO AFASTADO DA RAMPA/ESTAÇÃO TUBO',\n",
       "       'DESEMBARQUE DE PESSOAS PELA PORTA DE EMERGÊNCIA',\n",
       "       'ATENÇÃO NUTRICIONAL - LEITES E DIETAS',\n",
       "       'APRISIONAMENTO/CONFINAMENTO DE QUALQUER ESPÉCIE',\n",
       "       'ATENDIMENTO POR SENHAS', 'DOAÇÃO DE MUDAS DE ÁRVORES A PMC',\n",
       "       'TEMPLOS RELIGIOSOS', 'CONTRIBUIÇÃO VOLUNTÁRIA', 'EMISSÃO DE DAM',\n",
       "       'DISCRIMINAÇÃO - REJEIÇÃO FAMILIAR',\n",
       "       'AUTORIZAÇÃO PARA CONSTRUÇÃO DE CALÇADAS',\n",
       "       'GUARDA VOLUMES AUTOMÁTICO', 'LIXO TÓXICO',\n",
       "       'DENÚNCIA DE EMBRIAGUEZ DE OPERADORES', 'PROGRAMAS SMS'], dtype=object)"
      ]
     },
     "execution_count": 13,
     "metadata": {},
     "output_type": "execute_result"
    }
   ],
   "source": [
    "df['SUBDIVISAO'].unique()"
   ]
  },
  {
   "cell_type": "code",
   "execution_count": 14,
   "metadata": {},
   "outputs": [
    {
     "data": {
      "text/plain": [
       "0                            ANTONIO ZANON, 575\n",
       "1                 PRESIDENTE JOAO GOULART, 1495\n",
       "2                        URBANO BIER FILHO, 113\n",
       "3             JOVENILSON AMÉRICO DE OLIVEIRA, 0\n",
       "4    DESEMBARGADOR ERNANI ALMEIDA DE ABREU, 596\n",
       "Name: LOGRADOURO_ASS, dtype: object"
      ]
     },
     "execution_count": 14,
     "metadata": {},
     "output_type": "execute_result"
    }
   ],
   "source": [
    "df['LOGRADOURO_ASS'].head(5)"
   ]
  },
  {
   "cell_type": "code",
   "execution_count": 15,
   "metadata": {},
   "outputs": [
    {
     "data": {
      "text/plain": [
       "array(['TATUQUARA', 'PINHEIRINHO', 'CAMPO DE SANTANA', 'CENTRO CIVICO',\n",
       "       'SANTA CANDIDA', 'PILARZINHO', 'TINGUI', 'UBERABA', 'GUAIRA',\n",
       "       'XAXIM', 'BARREIRINHA', 'VILA IZABEL', 'ALTO DA GLORIA',\n",
       "       'AGUA VERDE', 'ALTO BOQUEIRAO', 'BACACHERI', 'SITIO CERCADO',\n",
       "       'CAMPO COMPRIDO', 'CAXIMBA', 'HAUER', 'JARDIM BOTANICO',\n",
       "       'BOA VISTA', 'BOQUEIRAO', 'NOVO MUNDO', 'SANTA QUITERIA',\n",
       "       'BIGORRILHO', 'CACHOEIRA', 'CAJURU', 'GUABIROTUBA', 'CENTRO',\n",
       "       'SANTA FELICIDADE', 'FAZENDINHA', 'ABRANCHES', 'AHU', 'ATUBA',\n",
       "       'BOM RETIRO', 'BAIRRO ALTO', 'CAMPINA DO SIQUEIRA',\n",
       "       'CIDADE INDUSTRIAL', 'VISTA ALEGRE', 'PORTAO', 'AUGUSTA', 'FANNY',\n",
       "       'CAPAO RASO', 'REBOUCAS', 'ALTO DA RUA XV', 'JARDIM DAS AMERICAS',\n",
       "       'PAROLIN', 'UMBARA', 'CAPAO DA IMBUIA', 'CABRAL', 'GANCHINHO',\n",
       "       'SEMINARIO', 'LINDOIA', 'CRISTO REI', 'MOSSUNGUE', 'MERCES',\n",
       "       'PRADO VELHO', 'TARUMA', 'TABOAO', 'SAO JOAO', 'HUGO LANGE',\n",
       "       'SAO BRAZ', 'BATEL', 'RIVIERA', 'SANTO INACIO', 'JARDIM SOCIAL',\n",
       "       'ORLEANS', 'CASCATINHA', 'JUVEVE', 'BUTIATUVINHA', 'SAO FRANCISCO',\n",
       "       'LAMENHA PEQUENA', 'SAO LOURENCO', 'SAO MIGUEL', nan], dtype=object)"
      ]
     },
     "execution_count": 15,
     "metadata": {},
     "output_type": "execute_result"
    }
   ],
   "source": [
    "df['BAIRRO_ASS'].unique()"
   ]
  },
  {
   "cell_type": "code",
   "execution_count": 16,
   "metadata": {},
   "outputs": [
    {
     "data": {
      "text/plain": [
       "array(['Unidade Regional Tatuquara', 'Unidade Regional Pinheirinho',\n",
       "       'Unidade Regional Matriz', 'Unidade Regional Boa Vista',\n",
       "       'Unidade Regional Cajuru', 'Unidade Regional Portao',\n",
       "       'Unidade Regional Boqueirao', 'Unidade Regional Bairro Novo',\n",
       "       'Unidade Regional Santa Felicidade', 'Unidade Regional CIC', nan], dtype=object)"
      ]
     },
     "execution_count": 16,
     "metadata": {},
     "output_type": "execute_result"
    }
   ],
   "source": [
    "df['REGIONAL_ASS'].unique()"
   ]
  },
  {
   "cell_type": "code",
   "execution_count": 17,
   "metadata": {},
   "outputs": [
    {
     "data": {
      "text/plain": [
       "array(['EMAIL', 'TELEFONE', 'NENHUM', 'PESSOALMENTE'], dtype=object)"
      ]
     },
     "execution_count": 17,
     "metadata": {},
     "output_type": "execute_result"
    }
   ],
   "source": [
    "df['MEIO_RESPOSTA'].unique()"
   ]
  },
  {
   "cell_type": "code",
   "execution_count": 18,
   "metadata": {},
   "outputs": [
    {
     "data": {
      "text/plain": [
       "array(['SECRETARIA MUNICIPAL DE OBRAS PÚBLICAS',\n",
       "       'SECRETARIA DO GOVERNO MUNICIPAL',\n",
       "       'SECRETARIA MUNICIPAL DE TRÂNSITO',\n",
       "       'SECRETARIA MUNICIPAL DO MEIO AMBIENTE', 'URBANIZAÇÃO DE CURITIBA',\n",
       "       'SECRETARIA MUNICIPAL DO URBANISMO',\n",
       "       'SECRETARIA MUNICIPAL DA SAÚDE',\n",
       "       'SECRETARIA MUNICIPAL DO ABASTECIMENTO', 'FUNDAÇÃO DE AÇÃO SOCIAL',\n",
       "       'SECRETARIA MUNICIPAL DA EDUCAÇÃO',\n",
       "       'SECRETARIA MUNICIPAL DO ESPORTE, LAZER E JUVENTUDE',\n",
       "       'COMPANHIA DE HABITAÇÃO POPULAR DE CURITIBA',\n",
       "       'SECRETARIA MUNICIPAL DA DEFESA SOCIAL',\n",
       "       'SECRETARIA MUNICIPAL DE FINANÇAS',\n",
       "       'INSTITUTO DAS CIDADES INTELIGENTES', 'INSTITUTO CURITIBA DE SAÚDE',\n",
       "       'INSTITUTO MUNICIPAL DE TURISMO - CURITIBA TURISMO',\n",
       "       'FUNDAÇÃO CULTURAL DE CURITIBA',\n",
       "       'SECRETARIA MUNICIPAL DO TRABALHO E EMPREGO',\n",
       "       'SECRETARIA MUNICIPAL DA COMUNICAÇÃO SOCIAL',\n",
       "       'SECRETARIA ESPECIAL DOS DIREITOS DA PESSOA COM DEFICIÊNCIA',\n",
       "       'PROCURADORIA GERAL DO MUNICÍPIO',\n",
       "       'SECRETARIA MUNICIPAL DE RECURSOS HUMANOS'], dtype=object)"
      ]
     },
     "execution_count": 18,
     "metadata": {},
     "output_type": "execute_result"
    }
   ],
   "source": [
    "df['ORGAO_RESP'].unique()"
   ]
  },
  {
   "cell_type": "code",
   "execution_count": 19,
   "metadata": {},
   "outputs": [
    {
     "data": {
      "text/plain": [
       "array(['Conclusão - Automática', 'Envio do e-mail de resposta',\n",
       "       'Resposta do RSO aprovada pelo CSO', 'Protocolo Consultado',\n",
       "       'Conclusão - Meio de resposta \"Nenhum\"',\n",
       "       'Responder para o solicitante',\n",
       "       'Pesquisa não realizada: Recusa do Cidadão',\n",
       "       'Revisado pelo Supervisor',\n",
       "       'Conclusão após tentativas de contato para resposta.',\n",
       "       'Documento \"lido\" pelo RSO', 'Solicita Parecer',\n",
       "       'Verificação de Solicitação Concluída',\n",
       "       'Respondido fora do Prazo de Resposta',\n",
       "       'Pesquisa não realizada: Desnecessária', 'Resposta ao Parecer',\n",
       "       'Pesquisa realizada', 'Resposta não aceita',\n",
       "       'Conclusão - Resposta Aceita',\n",
       "       'Documento \"lido\" pelo RSO, mas ainda não enc. para execução',\n",
       "       'Retirada da Pendência de Revisão',\n",
       "       'Conclusão - Cidadão recusou a ouvir a resposta',\n",
       "       'Resposta do RSO alterada pelo CSO', 'Impressão', 'Recadastro',\n",
       "       'Alteração na Solicitação', 'Encaminhado ao SIGMU',\n",
       "       'RESPOSTA NÃO ACEITA - Encaminhada ao SIGMU',\n",
       "       'Reencaminhado ao RSO pelo Supervisor',\n",
       "       'Urgência marcada como Vista', 'Verificação de Andamento',\n",
       "       'Tentativa de contato com o cidadão sem sucesso',\n",
       "       'Conclusão - Meio de resposta \"Pessoalmente\"',\n",
       "       'Resposta não aceita pelo CSO', 'Reclamação de Demora da Resposta',\n",
       "       'Complementar Dados', 'Conclusão - Sem contato',\n",
       "       'Solicitação de Cancelamento'], dtype=object)"
      ]
     },
     "execution_count": 19,
     "metadata": {},
     "output_type": "execute_result"
    }
   ],
   "source": [
    "df['RESPOSTA_FINAL'].unique()"
   ]
  },
  {
   "cell_type": "code",
   "execution_count": 20,
   "metadata": {
    "scrolled": true
   },
   "outputs": [],
   "source": [
    "#TOP 10 Atendimentos por Bairro\n",
    "df_top_bairros = df.groupby('BAIRRO_ASS')['BAIRRO_ASS'].count().reset_index(name='count').sort_values(['count'], ascending=False).head(10)"
   ]
  },
  {
   "cell_type": "code",
   "execution_count": 21,
   "metadata": {
    "collapsed": true
   },
   "outputs": [],
   "source": [
    "#charts\n",
    "import matplotlib.pyplot as plt\n",
    "%matplotlib inline"
   ]
  },
  {
   "cell_type": "code",
   "execution_count": 22,
   "metadata": {},
   "outputs": [
    {
     "data": {
      "image/png": "[encoded data removed]",
      "text/plain": [
       "<matplotlib.figure.Figure at 0x2daa5ba7048>"
      ]
     },
     "metadata": {},
     "output_type": "display_data"
    }
   ],
   "source": [
    "plt.figure(figsize=(18,5))\n",
    "plt.bar(df_top_bairros['BAIRRO_ASS'], df_top_bairros['count'], align='center', alpha=0.5)\n",
    "for a,b in zip(df_top_bairros['BAIRRO_ASS'], df_top_bairros['count']):\n",
    "    plt.text(a, b, str(b))\n",
    "plt.show()"
   ]
  },
  {
   "cell_type": "code",
   "execution_count": 23,
   "metadata": {},
   "outputs": [],
   "source": [
    "#TOP Atendimentos por Assunto\n",
    "df_top_assuntos = df.groupby('ASSUNTO')['ASSUNTO'].count().reset_index(name='count').sort_values(['count'], ascending=False).head(5)"
   ]
  },
  {
   "cell_type": "code",
   "execution_count": 24,
   "metadata": {},
   "outputs": [
    {
     "data": {
      "image/png": "[encoded data removed]",
      "text/plain": [
       "<matplotlib.figure.Figure at 0x2daa5c89a90>"
      ]
     },
     "metadata": {},
     "output_type": "display_data"
    }
   ],
   "source": [
    "plt.figure(figsize=(16,5))\n",
    "plt.bar(df_top_assuntos['ASSUNTO'], df_top_assuntos['count'], align='center', alpha=0.5)\n",
    "for a,b in zip(df_top_assuntos['ASSUNTO'], df_top_assuntos['count']):\n",
    "    plt.text(a, b, str(b))\n",
    "plt.show()"
   ]
  },
  {
   "cell_type": "code",
   "execution_count": 25,
   "metadata": {
    "collapsed": true
   },
   "outputs": [],
   "source": [
    "#TOP Atendimentos por Tipo\n",
    "df_top_tipos = df.groupby('TIPO')['TIPO'].count().reset_index(name='count').sort_values(['count'], ascending=False).head(5)"
   ]
  },
  {
   "cell_type": "code",
   "execution_count": 26,
   "metadata": {},
   "outputs": [
    {
     "data": {
      "text/html": [
       "<div>\n",
       "<style>\n",
       "    .dataframe thead tr:only-child th {\n",
       "        text-align: right;\n",
       "    }\n",
       "\n",
       "    .dataframe thead th {\n",
       "        text-align: left;\n",
       "    }\n",
       "\n",
       "    .dataframe tbody tr th {\n",
       "        vertical-align: top;\n",
       "    }\n",
       "</style>\n",
       "<table border=\"1\" class=\"dataframe\">\n",
       "  <thead>\n",
       "    <tr style=\"text-align: right;\">\n",
       "      <th></th>\n",
       "      <th>TIPO</th>\n",
       "      <th>count</th>\n",
       "    </tr>\n",
       "  </thead>\n",
       "  <tbody>\n",
       "    <tr>\n",
       "      <th>5</th>\n",
       "      <td>SOLICITAÇÃO</td>\n",
       "      <td>16123</td>\n",
       "    </tr>\n",
       "    <tr>\n",
       "      <th>4</th>\n",
       "      <td>RECLAMAÇÃO</td>\n",
       "      <td>2268</td>\n",
       "    </tr>\n",
       "    <tr>\n",
       "      <th>1</th>\n",
       "      <td>ELOGIO</td>\n",
       "      <td>471</td>\n",
       "    </tr>\n",
       "    <tr>\n",
       "      <th>3</th>\n",
       "      <td>RECADASTRO</td>\n",
       "      <td>231</td>\n",
       "    </tr>\n",
       "    <tr>\n",
       "      <th>2</th>\n",
       "      <td>INFORMAÇÃO</td>\n",
       "      <td>104</td>\n",
       "    </tr>\n",
       "  </tbody>\n",
       "</table>\n",
       "</div>"
      ],
      "text/plain": [
       "          TIPO  count\n",
       "5  SOLICITAÇÃO  16123\n",
       "4   RECLAMAÇÃO   2268\n",
       "1       ELOGIO    471\n",
       "3   RECADASTRO    231\n",
       "2   INFORMAÇÃO    104"
      ]
     },
     "execution_count": 26,
     "metadata": {},
     "output_type": "execute_result"
    }
   ],
   "source": [
    "df_top_tipos"
   ]
  },
  {
   "cell_type": "code",
   "execution_count": 27,
   "metadata": {},
   "outputs": [
    {
     "data": {
      "image/png": "[encoded data removed]",
      "text/plain": [
       "<matplotlib.figure.Figure at 0x2daa5ef4cc0>"
      ]
     },
     "metadata": {},
     "output_type": "display_data"
    }
   ],
   "source": [
    "plt.figure(figsize=(8,8))\n",
    "\n",
    "plt.pie(df_top_tipos['count'], labels = df_top_tipos['TIPO'])\n",
    "plt.title('Atendimentos por Tipo')\n",
    "plt.show()"
   ]
  },
  {
   "cell_type": "code",
   "execution_count": 28,
   "metadata": {
    "scrolled": true
   },
   "outputs": [
    {
     "data": {
      "text/plain": [
       "array(['Conclusão - Automática', 'Envio do e-mail de resposta',\n",
       "       'Resposta do RSO aprovada pelo CSO', 'Protocolo Consultado',\n",
       "       'Conclusão - Meio de resposta \"Nenhum\"',\n",
       "       'Responder para o solicitante',\n",
       "       'Pesquisa não realizada: Recusa do Cidadão',\n",
       "       'Revisado pelo Supervisor',\n",
       "       'Conclusão após tentativas de contato para resposta.',\n",
       "       'Documento \"lido\" pelo RSO', 'Solicita Parecer',\n",
       "       'Verificação de Solicitação Concluída',\n",
       "       'Respondido fora do Prazo de Resposta',\n",
       "       'Pesquisa não realizada: Desnecessária', 'Resposta ao Parecer',\n",
       "       'Pesquisa realizada', 'Resposta não aceita',\n",
       "       'Conclusão - Resposta Aceita',\n",
       "       'Documento \"lido\" pelo RSO, mas ainda não enc. para execução',\n",
       "       'Retirada da Pendência de Revisão',\n",
       "       'Conclusão - Cidadão recusou a ouvir a resposta',\n",
       "       'Resposta do RSO alterada pelo CSO', 'Impressão', 'Recadastro',\n",
       "       'Alteração na Solicitação', 'Encaminhado ao SIGMU',\n",
       "       'RESPOSTA NÃO ACEITA - Encaminhada ao SIGMU',\n",
       "       'Reencaminhado ao RSO pelo Supervisor',\n",
       "       'Urgência marcada como Vista', 'Verificação de Andamento',\n",
       "       'Tentativa de contato com o cidadão sem sucesso',\n",
       "       'Conclusão - Meio de resposta \"Pessoalmente\"',\n",
       "       'Resposta não aceita pelo CSO', 'Reclamação de Demora da Resposta',\n",
       "       'Complementar Dados', 'Conclusão - Sem contato',\n",
       "       'Solicitação de Cancelamento'], dtype=object)"
      ]
     },
     "execution_count": 28,
     "metadata": {},
     "output_type": "execute_result"
    }
   ],
   "source": [
    "df['RESPOSTA_FINAL'].unique()"
   ]
  },
  {
   "cell_type": "code",
   "execution_count": 29,
   "metadata": {},
   "outputs": [],
   "source": [
    "# assunto ILUMINAÇÃO PÚBLICA VS dia da semana\n",
    "df['DIA DA SEMANA'] = df['DATA'].dt.dayofweek"
   ]
  },
  {
   "cell_type": "code",
   "execution_count": 30,
   "metadata": {},
   "outputs": [],
   "source": [
    "df_iluminacao_diadasemana = df[df['ASSUNTO'] == 'ILUMINAÇÃO PÚBLICA'].groupby('DIA DA SEMANA')['DIA DA SEMANA'].count().reset_index(name='count').sort_values(['count'], ascending=False).head(7)"
   ]
  },
  {
   "cell_type": "code",
   "execution_count": 31,
   "metadata": {},
   "outputs": [
    {
     "data": {
      "image/png": "[encoded data removed]",
      "text/plain": [
       "<matplotlib.figure.Figure at 0x2daa5eff898>"
      ]
     },
     "metadata": {},
     "output_type": "display_data"
    }
   ],
   "source": [
    "plt.figure(figsize=(16,5))\n",
    "plt.bar(df_iluminacao_diadasemana['DIA DA SEMANA'], df_iluminacao_diadasemana['count'], align='center', alpha=0.5)\n",
    "for a,b in zip(df_iluminacao_diadasemana['DIA DA SEMANA'], df_iluminacao_diadasemana['count']):\n",
    "    plt.text(a, b, str(b))\n",
    "plt.show()"
   ]
  },
  {
   "cell_type": "code",
   "execution_count": 32,
   "metadata": {
    "collapsed": true
   },
   "outputs": [],
   "source": [
    "df_fev = df[(df['DATA'] >= '2019-02-01') & (df['DATA'] < '2019-03-01')]"
   ]
  },
  {
   "cell_type": "code",
   "execution_count": 33,
   "metadata": {},
   "outputs": [
    {
     "data": {
      "text/plain": [
       "19339"
      ]
     },
     "execution_count": 33,
     "metadata": {},
     "output_type": "execute_result"
    }
   ],
   "source": [
    "#Atendimentos em fevereiro\n",
    "len(df_fev) "
   ]
  },
  {
   "cell_type": "code",
   "execution_count": 34,
   "metadata": {},
   "outputs": [
    {
     "data": {
      "text/plain": [
       "16224"
      ]
     },
     "execution_count": 34,
     "metadata": {},
     "output_type": "execute_result"
    }
   ],
   "source": [
    "# Solicitações ou Informações em fevereiro\n",
    "len(df_fev[(df_fev['TIPO'] == 'SOLICITAÇÃO') | (df_fev['TIPO'] == 'INFORMAÇÃO')]) "
   ]
  },
  {
   "cell_type": "code",
   "execution_count": 35,
   "metadata": {},
   "outputs": [
    {
     "data": {
      "text/plain": [
       "array(['EMAIL', 'TELEFONE', 'NENHUM', 'PESSOALMENTE'], dtype=object)"
      ]
     },
     "execution_count": 35,
     "metadata": {},
     "output_type": "execute_result"
    }
   ],
   "source": [
    "df_fev['MEIO_RESPOSTA'].unique()"
   ]
  },
  {
   "cell_type": "code",
   "execution_count": 36,
   "metadata": {},
   "outputs": [
    {
     "data": {
      "text/html": [
       "<div>\n",
       "<style>\n",
       "    .dataframe thead tr:only-child th {\n",
       "        text-align: right;\n",
       "    }\n",
       "\n",
       "    .dataframe thead th {\n",
       "        text-align: left;\n",
       "    }\n",
       "\n",
       "    .dataframe tbody tr th {\n",
       "        vertical-align: top;\n",
       "    }\n",
       "</style>\n",
       "<table border=\"1\" class=\"dataframe\">\n",
       "  <thead>\n",
       "    <tr style=\"text-align: right;\">\n",
       "      <th></th>\n",
       "      <th>MEIO_RESPOSTA</th>\n",
       "      <th>count</th>\n",
       "    </tr>\n",
       "  </thead>\n",
       "  <tbody>\n",
       "    <tr>\n",
       "      <th>0</th>\n",
       "      <td>EMAIL</td>\n",
       "      <td>12654</td>\n",
       "    </tr>\n",
       "    <tr>\n",
       "      <th>1</th>\n",
       "      <td>NENHUM</td>\n",
       "      <td>3709</td>\n",
       "    </tr>\n",
       "    <tr>\n",
       "      <th>3</th>\n",
       "      <td>TELEFONE</td>\n",
       "      <td>2966</td>\n",
       "    </tr>\n",
       "    <tr>\n",
       "      <th>2</th>\n",
       "      <td>PESSOALMENTE</td>\n",
       "      <td>10</td>\n",
       "    </tr>\n",
       "  </tbody>\n",
       "</table>\n",
       "</div>"
      ],
      "text/plain": [
       "  MEIO_RESPOSTA  count\n",
       "0         EMAIL  12654\n",
       "1        NENHUM   3709\n",
       "3      TELEFONE   2966\n",
       "2  PESSOALMENTE     10"
      ]
     },
     "execution_count": 36,
     "metadata": {},
     "output_type": "execute_result"
    }
   ],
   "source": [
    "df_fev.groupby('MEIO_RESPOSTA')['MEIO_RESPOSTA'].count().reset_index(name='count').sort_values(['count'], ascending=False)"
   ]
  },
  {
   "cell_type": "code",
   "execution_count": null,
   "metadata": {
    "collapsed": true
   },
   "outputs": [],
   "source": []
  },
  {
   "cell_type": "code",
   "execution_count": null,
   "metadata": {
    "collapsed": true
   },
   "outputs": [],
   "source": []
  }
 ],
 "metadata": {
  "kernelspec": {
   "display_name": "Python 3",
   "language": "python",
   "name": "python3"
  },
  "language_info": {
   "codemirror_mode": {
    "name": "ipython",
    "version": 3
   },
   "file_extension": ".py",
   "mimetype": "text/x-python",
   "name": "python",
   "nbconvert_exporter": "python",
   "pygments_lexer": "ipython3",
   "version": "3.6.3"
  }
 },
 "nbformat": 4,
 "nbformat_minor": 2
}
